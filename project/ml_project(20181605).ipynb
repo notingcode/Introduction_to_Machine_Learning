{
  "nbformat": 4,
  "nbformat_minor": 0,
  "metadata": {
    "colab": {
      "name": "ml_project(20181605).ipynb",
      "provenance": []
    },
    "kernelspec": {
      "name": "python3",
      "display_name": "Python 3"
    }
  },
  "cells": [
    {
      "cell_type": "markdown",
      "metadata": {
        "id": "RHNFnpionbz3"
      },
      "source": [
        "# Introduction to Machine Learning Project Code"
      ]
    },
    {
      "cell_type": "markdown",
      "metadata": {
        "id": "SRpMByZHEePZ"
      },
      "source": [
        "The goal is to predict the median house price of each block using the training data."
      ]
    },
    {
      "cell_type": "code",
      "metadata": {
        "id": "s2F7eekpB_Z4"
      },
      "source": [
        "import pandas as pd\n",
        "import numpy as np\n",
        "import sklearn\n",
        "import matplotlib.pyplot as plt\n",
        "import seaborn as sns\n",
        "import pickle\n",
        "\n",
        "raw_data = pd.read_excel(\"/content/drive/MyDrive/train.xlsx\", usecols=\"B:K\")"
      ],
      "execution_count": 1,
      "outputs": []
    },
    {
      "cell_type": "markdown",
      "metadata": {
        "id": "PphyxIqJOVUe"
      },
      "source": [
        "Using pandas, we read the train data in xlsx format as a two-dimensional tabular data, which is called a Dataframe. We use columns B:K, which are the labeled columns of the data.\n",
        "\n",
        "Now lets look at what is in the Dataframe."
      ]
    },
    {
      "cell_type": "markdown",
      "metadata": {
        "id": "SGN7WjWkq8p1"
      },
      "source": [
        "## Analysis of Data and Feature Selection"
      ]
    },
    {
      "cell_type": "code",
      "metadata": {
        "colab": {
          "base_uri": "https://localhost:8080/",
          "height": 437
        },
        "id": "1Rb71506VGbA",
        "outputId": "2e735514-b7cd-4d29-864e-d3927b5718a1"
      },
      "source": [
        "raw_data"
      ],
      "execution_count": 2,
      "outputs": [
        {
          "output_type": "execute_result",
          "data": {
            "text/html": [
              "<div>\n",
              "<style scoped>\n",
              "    .dataframe tbody tr th:only-of-type {\n",
              "        vertical-align: middle;\n",
              "    }\n",
              "\n",
              "    .dataframe tbody tr th {\n",
              "        vertical-align: top;\n",
              "    }\n",
              "\n",
              "    .dataframe thead th {\n",
              "        text-align: right;\n",
              "    }\n",
              "</style>\n",
              "<table border=\"1\" class=\"dataframe\">\n",
              "  <thead>\n",
              "    <tr style=\"text-align: right;\">\n",
              "      <th></th>\n",
              "      <th>longitude</th>\n",
              "      <th>latitude</th>\n",
              "      <th>housing_median_age</th>\n",
              "      <th>total_rooms</th>\n",
              "      <th>total_bedrooms</th>\n",
              "      <th>population</th>\n",
              "      <th>households</th>\n",
              "      <th>median_income</th>\n",
              "      <th>ocean_proximity</th>\n",
              "      <th>target</th>\n",
              "    </tr>\n",
              "  </thead>\n",
              "  <tbody>\n",
              "    <tr>\n",
              "      <th>0</th>\n",
              "      <td>-121.89</td>\n",
              "      <td>37.29</td>\n",
              "      <td>38</td>\n",
              "      <td>1568</td>\n",
              "      <td>351.0</td>\n",
              "      <td>710</td>\n",
              "      <td>339</td>\n",
              "      <td>2.7042</td>\n",
              "      <td>&lt;1H OCEAN</td>\n",
              "      <td>286600</td>\n",
              "    </tr>\n",
              "    <tr>\n",
              "      <th>1</th>\n",
              "      <td>-121.93</td>\n",
              "      <td>37.05</td>\n",
              "      <td>14</td>\n",
              "      <td>679</td>\n",
              "      <td>108.0</td>\n",
              "      <td>306</td>\n",
              "      <td>113</td>\n",
              "      <td>6.4214</td>\n",
              "      <td>&lt;1H OCEAN</td>\n",
              "      <td>340600</td>\n",
              "    </tr>\n",
              "    <tr>\n",
              "      <th>2</th>\n",
              "      <td>-117.20</td>\n",
              "      <td>32.77</td>\n",
              "      <td>31</td>\n",
              "      <td>1952</td>\n",
              "      <td>471.0</td>\n",
              "      <td>936</td>\n",
              "      <td>462</td>\n",
              "      <td>2.8621</td>\n",
              "      <td>NEAR OCEAN</td>\n",
              "      <td>196900</td>\n",
              "    </tr>\n",
              "    <tr>\n",
              "      <th>3</th>\n",
              "      <td>-119.61</td>\n",
              "      <td>36.31</td>\n",
              "      <td>25</td>\n",
              "      <td>1847</td>\n",
              "      <td>371.0</td>\n",
              "      <td>1460</td>\n",
              "      <td>353</td>\n",
              "      <td>1.8839</td>\n",
              "      <td>INLAND</td>\n",
              "      <td>46300</td>\n",
              "    </tr>\n",
              "    <tr>\n",
              "      <th>4</th>\n",
              "      <td>-118.59</td>\n",
              "      <td>34.23</td>\n",
              "      <td>17</td>\n",
              "      <td>6592</td>\n",
              "      <td>1525.0</td>\n",
              "      <td>4459</td>\n",
              "      <td>1463</td>\n",
              "      <td>3.0347</td>\n",
              "      <td>&lt;1H OCEAN</td>\n",
              "      <td>254500</td>\n",
              "    </tr>\n",
              "    <tr>\n",
              "      <th>...</th>\n",
              "      <td>...</td>\n",
              "      <td>...</td>\n",
              "      <td>...</td>\n",
              "      <td>...</td>\n",
              "      <td>...</td>\n",
              "      <td>...</td>\n",
              "      <td>...</td>\n",
              "      <td>...</td>\n",
              "      <td>...</td>\n",
              "      <td>...</td>\n",
              "    </tr>\n",
              "    <tr>\n",
              "      <th>16507</th>\n",
              "      <td>-118.13</td>\n",
              "      <td>34.20</td>\n",
              "      <td>46</td>\n",
              "      <td>1271</td>\n",
              "      <td>236.0</td>\n",
              "      <td>573</td>\n",
              "      <td>210</td>\n",
              "      <td>4.9312</td>\n",
              "      <td>INLAND</td>\n",
              "      <td>240200</td>\n",
              "    </tr>\n",
              "    <tr>\n",
              "      <th>16508</th>\n",
              "      <td>-117.56</td>\n",
              "      <td>33.88</td>\n",
              "      <td>40</td>\n",
              "      <td>1196</td>\n",
              "      <td>294.0</td>\n",
              "      <td>1052</td>\n",
              "      <td>258</td>\n",
              "      <td>2.0682</td>\n",
              "      <td>INLAND</td>\n",
              "      <td>113000</td>\n",
              "    </tr>\n",
              "    <tr>\n",
              "      <th>16509</th>\n",
              "      <td>-116.40</td>\n",
              "      <td>34.09</td>\n",
              "      <td>9</td>\n",
              "      <td>4855</td>\n",
              "      <td>872.0</td>\n",
              "      <td>2098</td>\n",
              "      <td>765</td>\n",
              "      <td>3.2723</td>\n",
              "      <td>INLAND</td>\n",
              "      <td>97800</td>\n",
              "    </tr>\n",
              "    <tr>\n",
              "      <th>16510</th>\n",
              "      <td>-118.01</td>\n",
              "      <td>33.82</td>\n",
              "      <td>31</td>\n",
              "      <td>1960</td>\n",
              "      <td>380.0</td>\n",
              "      <td>1356</td>\n",
              "      <td>356</td>\n",
              "      <td>4.0625</td>\n",
              "      <td>&lt;1H OCEAN</td>\n",
              "      <td>225900</td>\n",
              "    </tr>\n",
              "    <tr>\n",
              "      <th>16511</th>\n",
              "      <td>-122.45</td>\n",
              "      <td>37.77</td>\n",
              "      <td>52</td>\n",
              "      <td>3095</td>\n",
              "      <td>682.0</td>\n",
              "      <td>1269</td>\n",
              "      <td>639</td>\n",
              "      <td>3.5750</td>\n",
              "      <td>NEAR BAY</td>\n",
              "      <td>500001</td>\n",
              "    </tr>\n",
              "  </tbody>\n",
              "</table>\n",
              "<p>16512 rows × 10 columns</p>\n",
              "</div>"
            ],
            "text/plain": [
              "       longitude  latitude  ...  ocean_proximity  target\n",
              "0        -121.89     37.29  ...        <1H OCEAN  286600\n",
              "1        -121.93     37.05  ...        <1H OCEAN  340600\n",
              "2        -117.20     32.77  ...       NEAR OCEAN  196900\n",
              "3        -119.61     36.31  ...           INLAND   46300\n",
              "4        -118.59     34.23  ...        <1H OCEAN  254500\n",
              "...          ...       ...  ...              ...     ...\n",
              "16507    -118.13     34.20  ...           INLAND  240200\n",
              "16508    -117.56     33.88  ...           INLAND  113000\n",
              "16509    -116.40     34.09  ...           INLAND   97800\n",
              "16510    -118.01     33.82  ...        <1H OCEAN  225900\n",
              "16511    -122.45     37.77  ...         NEAR BAY  500001\n",
              "\n",
              "[16512 rows x 10 columns]"
            ]
          },
          "metadata": {
            "tags": []
          },
          "execution_count": 2
        }
      ]
    },
    {
      "cell_type": "markdown",
      "metadata": {
        "id": "m7U46c0WCwgT"
      },
      "source": [
        "Check for any data that is not numerical"
      ]
    },
    {
      "cell_type": "code",
      "metadata": {
        "colab": {
          "base_uri": "https://localhost:8080/"
        },
        "id": "mNtW9GEHPs8P",
        "outputId": "9be34841-0060-44c2-a4c3-8adb5e23096e"
      },
      "source": [
        "raw_data.dtypes"
      ],
      "execution_count": 3,
      "outputs": [
        {
          "output_type": "execute_result",
          "data": {
            "text/plain": [
              "longitude             float64\n",
              "latitude              float64\n",
              "housing_median_age      int64\n",
              "total_rooms             int64\n",
              "total_bedrooms        float64\n",
              "population              int64\n",
              "households              int64\n",
              "median_income         float64\n",
              "ocean_proximity        object\n",
              "target                  int64\n",
              "dtype: object"
            ]
          },
          "metadata": {
            "tags": []
          },
          "execution_count": 3
        }
      ]
    },
    {
      "cell_type": "markdown",
      "metadata": {
        "id": "9J_q2QhrOZ6o"
      },
      "source": [
        "Observing the data read from the excel file, we see that all feature categories are numerical except 'ocean_proximity'. The values of 'ocean_proximity' should be changed to numerical values before using them to train the model.\n",
        "\n",
        "Check for unique values of 'ocean_proximity."
      ]
    },
    {
      "cell_type": "code",
      "metadata": {
        "colab": {
          "base_uri": "https://localhost:8080/"
        },
        "id": "WHgkinEInTIp",
        "outputId": "9f9f0fd8-6cf5-410e-891c-b608da5ab580"
      },
      "source": [
        "raw_data['ocean_proximity'].value_counts()"
      ],
      "execution_count": 4,
      "outputs": [
        {
          "output_type": "execute_result",
          "data": {
            "text/plain": [
              "<1H OCEAN     7276\n",
              "INLAND        5263\n",
              "NEAR OCEAN    2124\n",
              "NEAR BAY      1847\n",
              "ISLAND           2\n",
              "Name: ocean_proximity, dtype: int64"
            ]
          },
          "metadata": {
            "tags": []
          },
          "execution_count": 4
        }
      ]
    },
    {
      "cell_type": "markdown",
      "metadata": {
        "id": "PUt3S48-SETZ"
      },
      "source": [
        "We see that 'ocean_proximity' has five distinct string values('<1H OCEAN', 'INLAND', 'NEAR OCEAN', 'NEAR BAY', 'ISLAND'). Ocean proximity should have a correlation with house prices. Therefore, the string values are changed into integer values of increasing order according to the decreasing proximity to the ocean."
      ]
    },
    {
      "cell_type": "code",
      "metadata": {
        "id": "Qd4YaTxx58eV"
      },
      "source": [
        "obj_to_num = dict()\n",
        "\n",
        "obj_to_num['ISLAND'] = 0\n",
        "obj_to_num['NEAR OCEAN'] = 1\n",
        "obj_to_num['NEAR BAY'] = 1\n",
        "obj_to_num['<1H OCEAN'] = 2\n",
        "obj_to_num['INLAND'] = 3"
      ],
      "execution_count": 5,
      "outputs": []
    },
    {
      "cell_type": "markdown",
      "metadata": {
        "id": "yhrWd2g_T8gv"
      },
      "source": [
        "The 'ocean_proximity' is replaced with corresponding integer values. Now, the data is completely numerical."
      ]
    },
    {
      "cell_type": "code",
      "metadata": {
        "colab": {
          "base_uri": "https://localhost:8080/",
          "height": 437
        },
        "id": "2eaiCRBvl3-u",
        "outputId": "3ca96e89-f29b-4b69-f80b-a90b47a9ff17"
      },
      "source": [
        "numerical_data = raw_data.replace(obj_to_num)\n",
        "numerical_data"
      ],
      "execution_count": 6,
      "outputs": [
        {
          "output_type": "execute_result",
          "data": {
            "text/html": [
              "<div>\n",
              "<style scoped>\n",
              "    .dataframe tbody tr th:only-of-type {\n",
              "        vertical-align: middle;\n",
              "    }\n",
              "\n",
              "    .dataframe tbody tr th {\n",
              "        vertical-align: top;\n",
              "    }\n",
              "\n",
              "    .dataframe thead th {\n",
              "        text-align: right;\n",
              "    }\n",
              "</style>\n",
              "<table border=\"1\" class=\"dataframe\">\n",
              "  <thead>\n",
              "    <tr style=\"text-align: right;\">\n",
              "      <th></th>\n",
              "      <th>longitude</th>\n",
              "      <th>latitude</th>\n",
              "      <th>housing_median_age</th>\n",
              "      <th>total_rooms</th>\n",
              "      <th>total_bedrooms</th>\n",
              "      <th>population</th>\n",
              "      <th>households</th>\n",
              "      <th>median_income</th>\n",
              "      <th>ocean_proximity</th>\n",
              "      <th>target</th>\n",
              "    </tr>\n",
              "  </thead>\n",
              "  <tbody>\n",
              "    <tr>\n",
              "      <th>0</th>\n",
              "      <td>-121.89</td>\n",
              "      <td>37.29</td>\n",
              "      <td>38</td>\n",
              "      <td>1568</td>\n",
              "      <td>351.0</td>\n",
              "      <td>710</td>\n",
              "      <td>339</td>\n",
              "      <td>2.7042</td>\n",
              "      <td>2</td>\n",
              "      <td>286600</td>\n",
              "    </tr>\n",
              "    <tr>\n",
              "      <th>1</th>\n",
              "      <td>-121.93</td>\n",
              "      <td>37.05</td>\n",
              "      <td>14</td>\n",
              "      <td>679</td>\n",
              "      <td>108.0</td>\n",
              "      <td>306</td>\n",
              "      <td>113</td>\n",
              "      <td>6.4214</td>\n",
              "      <td>2</td>\n",
              "      <td>340600</td>\n",
              "    </tr>\n",
              "    <tr>\n",
              "      <th>2</th>\n",
              "      <td>-117.20</td>\n",
              "      <td>32.77</td>\n",
              "      <td>31</td>\n",
              "      <td>1952</td>\n",
              "      <td>471.0</td>\n",
              "      <td>936</td>\n",
              "      <td>462</td>\n",
              "      <td>2.8621</td>\n",
              "      <td>1</td>\n",
              "      <td>196900</td>\n",
              "    </tr>\n",
              "    <tr>\n",
              "      <th>3</th>\n",
              "      <td>-119.61</td>\n",
              "      <td>36.31</td>\n",
              "      <td>25</td>\n",
              "      <td>1847</td>\n",
              "      <td>371.0</td>\n",
              "      <td>1460</td>\n",
              "      <td>353</td>\n",
              "      <td>1.8839</td>\n",
              "      <td>3</td>\n",
              "      <td>46300</td>\n",
              "    </tr>\n",
              "    <tr>\n",
              "      <th>4</th>\n",
              "      <td>-118.59</td>\n",
              "      <td>34.23</td>\n",
              "      <td>17</td>\n",
              "      <td>6592</td>\n",
              "      <td>1525.0</td>\n",
              "      <td>4459</td>\n",
              "      <td>1463</td>\n",
              "      <td>3.0347</td>\n",
              "      <td>2</td>\n",
              "      <td>254500</td>\n",
              "    </tr>\n",
              "    <tr>\n",
              "      <th>...</th>\n",
              "      <td>...</td>\n",
              "      <td>...</td>\n",
              "      <td>...</td>\n",
              "      <td>...</td>\n",
              "      <td>...</td>\n",
              "      <td>...</td>\n",
              "      <td>...</td>\n",
              "      <td>...</td>\n",
              "      <td>...</td>\n",
              "      <td>...</td>\n",
              "    </tr>\n",
              "    <tr>\n",
              "      <th>16507</th>\n",
              "      <td>-118.13</td>\n",
              "      <td>34.20</td>\n",
              "      <td>46</td>\n",
              "      <td>1271</td>\n",
              "      <td>236.0</td>\n",
              "      <td>573</td>\n",
              "      <td>210</td>\n",
              "      <td>4.9312</td>\n",
              "      <td>3</td>\n",
              "      <td>240200</td>\n",
              "    </tr>\n",
              "    <tr>\n",
              "      <th>16508</th>\n",
              "      <td>-117.56</td>\n",
              "      <td>33.88</td>\n",
              "      <td>40</td>\n",
              "      <td>1196</td>\n",
              "      <td>294.0</td>\n",
              "      <td>1052</td>\n",
              "      <td>258</td>\n",
              "      <td>2.0682</td>\n",
              "      <td>3</td>\n",
              "      <td>113000</td>\n",
              "    </tr>\n",
              "    <tr>\n",
              "      <th>16509</th>\n",
              "      <td>-116.40</td>\n",
              "      <td>34.09</td>\n",
              "      <td>9</td>\n",
              "      <td>4855</td>\n",
              "      <td>872.0</td>\n",
              "      <td>2098</td>\n",
              "      <td>765</td>\n",
              "      <td>3.2723</td>\n",
              "      <td>3</td>\n",
              "      <td>97800</td>\n",
              "    </tr>\n",
              "    <tr>\n",
              "      <th>16510</th>\n",
              "      <td>-118.01</td>\n",
              "      <td>33.82</td>\n",
              "      <td>31</td>\n",
              "      <td>1960</td>\n",
              "      <td>380.0</td>\n",
              "      <td>1356</td>\n",
              "      <td>356</td>\n",
              "      <td>4.0625</td>\n",
              "      <td>2</td>\n",
              "      <td>225900</td>\n",
              "    </tr>\n",
              "    <tr>\n",
              "      <th>16511</th>\n",
              "      <td>-122.45</td>\n",
              "      <td>37.77</td>\n",
              "      <td>52</td>\n",
              "      <td>3095</td>\n",
              "      <td>682.0</td>\n",
              "      <td>1269</td>\n",
              "      <td>639</td>\n",
              "      <td>3.5750</td>\n",
              "      <td>1</td>\n",
              "      <td>500001</td>\n",
              "    </tr>\n",
              "  </tbody>\n",
              "</table>\n",
              "<p>16512 rows × 10 columns</p>\n",
              "</div>"
            ],
            "text/plain": [
              "       longitude  latitude  ...  ocean_proximity  target\n",
              "0        -121.89     37.29  ...                2  286600\n",
              "1        -121.93     37.05  ...                2  340600\n",
              "2        -117.20     32.77  ...                1  196900\n",
              "3        -119.61     36.31  ...                3   46300\n",
              "4        -118.59     34.23  ...                2  254500\n",
              "...          ...       ...  ...              ...     ...\n",
              "16507    -118.13     34.20  ...                3  240200\n",
              "16508    -117.56     33.88  ...                3  113000\n",
              "16509    -116.40     34.09  ...                3   97800\n",
              "16510    -118.01     33.82  ...                2  225900\n",
              "16511    -122.45     37.77  ...                1  500001\n",
              "\n",
              "[16512 rows x 10 columns]"
            ]
          },
          "metadata": {
            "tags": []
          },
          "execution_count": 6
        }
      ]
    },
    {
      "cell_type": "markdown",
      "metadata": {
        "id": "POQRHfmHUKqY"
      },
      "source": [
        "Check for basic statistics on the distribution of numerical data. It is difficult to analyze data in this fashion, so some useful methods will be used to visualize the data below."
      ]
    },
    {
      "cell_type": "code",
      "metadata": {
        "colab": {
          "base_uri": "https://localhost:8080/",
          "height": 315
        },
        "id": "wlBIHY8BCt7N",
        "outputId": "926529a6-6438-44d8-df9e-fb543a3a7d99"
      },
      "source": [
        "numerical_data.describe()"
      ],
      "execution_count": 7,
      "outputs": [
        {
          "output_type": "execute_result",
          "data": {
            "text/html": [
              "<div>\n",
              "<style scoped>\n",
              "    .dataframe tbody tr th:only-of-type {\n",
              "        vertical-align: middle;\n",
              "    }\n",
              "\n",
              "    .dataframe tbody tr th {\n",
              "        vertical-align: top;\n",
              "    }\n",
              "\n",
              "    .dataframe thead th {\n",
              "        text-align: right;\n",
              "    }\n",
              "</style>\n",
              "<table border=\"1\" class=\"dataframe\">\n",
              "  <thead>\n",
              "    <tr style=\"text-align: right;\">\n",
              "      <th></th>\n",
              "      <th>longitude</th>\n",
              "      <th>latitude</th>\n",
              "      <th>housing_median_age</th>\n",
              "      <th>total_rooms</th>\n",
              "      <th>total_bedrooms</th>\n",
              "      <th>population</th>\n",
              "      <th>households</th>\n",
              "      <th>median_income</th>\n",
              "      <th>ocean_proximity</th>\n",
              "      <th>target</th>\n",
              "    </tr>\n",
              "  </thead>\n",
              "  <tbody>\n",
              "    <tr>\n",
              "      <th>count</th>\n",
              "      <td>16512.000000</td>\n",
              "      <td>16512.000000</td>\n",
              "      <td>16512.000000</td>\n",
              "      <td>16512.000000</td>\n",
              "      <td>16354.000000</td>\n",
              "      <td>16512.000000</td>\n",
              "      <td>16512.000000</td>\n",
              "      <td>16512.000000</td>\n",
              "      <td>16512.000000</td>\n",
              "      <td>16512.000000</td>\n",
              "    </tr>\n",
              "    <tr>\n",
              "      <th>mean</th>\n",
              "      <td>-119.575834</td>\n",
              "      <td>35.639577</td>\n",
              "      <td>28.653101</td>\n",
              "      <td>2622.728319</td>\n",
              "      <td>534.973890</td>\n",
              "      <td>1419.790819</td>\n",
              "      <td>497.060380</td>\n",
              "      <td>3.875589</td>\n",
              "      <td>2.078004</td>\n",
              "      <td>206990.920724</td>\n",
              "    </tr>\n",
              "    <tr>\n",
              "      <th>std</th>\n",
              "      <td>2.001860</td>\n",
              "      <td>2.138058</td>\n",
              "      <td>12.574726</td>\n",
              "      <td>2138.458419</td>\n",
              "      <td>412.699041</td>\n",
              "      <td>1115.686241</td>\n",
              "      <td>375.720845</td>\n",
              "      <td>1.904950</td>\n",
              "      <td>0.744085</td>\n",
              "      <td>115703.014830</td>\n",
              "    </tr>\n",
              "    <tr>\n",
              "      <th>min</th>\n",
              "      <td>-124.350000</td>\n",
              "      <td>32.540000</td>\n",
              "      <td>1.000000</td>\n",
              "      <td>6.000000</td>\n",
              "      <td>2.000000</td>\n",
              "      <td>3.000000</td>\n",
              "      <td>2.000000</td>\n",
              "      <td>0.499900</td>\n",
              "      <td>0.000000</td>\n",
              "      <td>14999.000000</td>\n",
              "    </tr>\n",
              "    <tr>\n",
              "      <th>25%</th>\n",
              "      <td>-121.800000</td>\n",
              "      <td>33.940000</td>\n",
              "      <td>18.000000</td>\n",
              "      <td>1443.000000</td>\n",
              "      <td>295.000000</td>\n",
              "      <td>784.000000</td>\n",
              "      <td>279.000000</td>\n",
              "      <td>2.566775</td>\n",
              "      <td>2.000000</td>\n",
              "      <td>119800.000000</td>\n",
              "    </tr>\n",
              "    <tr>\n",
              "      <th>50%</th>\n",
              "      <td>-118.510000</td>\n",
              "      <td>34.260000</td>\n",
              "      <td>29.000000</td>\n",
              "      <td>2119.500000</td>\n",
              "      <td>433.000000</td>\n",
              "      <td>1164.000000</td>\n",
              "      <td>408.000000</td>\n",
              "      <td>3.540900</td>\n",
              "      <td>2.000000</td>\n",
              "      <td>179500.000000</td>\n",
              "    </tr>\n",
              "    <tr>\n",
              "      <th>75%</th>\n",
              "      <td>-118.010000</td>\n",
              "      <td>37.720000</td>\n",
              "      <td>37.000000</td>\n",
              "      <td>3141.000000</td>\n",
              "      <td>644.000000</td>\n",
              "      <td>1719.250000</td>\n",
              "      <td>602.000000</td>\n",
              "      <td>4.744475</td>\n",
              "      <td>3.000000</td>\n",
              "      <td>263900.000000</td>\n",
              "    </tr>\n",
              "    <tr>\n",
              "      <th>max</th>\n",
              "      <td>-114.310000</td>\n",
              "      <td>41.950000</td>\n",
              "      <td>52.000000</td>\n",
              "      <td>39320.000000</td>\n",
              "      <td>6210.000000</td>\n",
              "      <td>35682.000000</td>\n",
              "      <td>5358.000000</td>\n",
              "      <td>15.000100</td>\n",
              "      <td>3.000000</td>\n",
              "      <td>500001.000000</td>\n",
              "    </tr>\n",
              "  </tbody>\n",
              "</table>\n",
              "</div>"
            ],
            "text/plain": [
              "          longitude      latitude  ...  ocean_proximity         target\n",
              "count  16512.000000  16512.000000  ...     16512.000000   16512.000000\n",
              "mean    -119.575834     35.639577  ...         2.078004  206990.920724\n",
              "std        2.001860      2.138058  ...         0.744085  115703.014830\n",
              "min     -124.350000     32.540000  ...         0.000000   14999.000000\n",
              "25%     -121.800000     33.940000  ...         2.000000  119800.000000\n",
              "50%     -118.510000     34.260000  ...         2.000000  179500.000000\n",
              "75%     -118.010000     37.720000  ...         3.000000  263900.000000\n",
              "max     -114.310000     41.950000  ...         3.000000  500001.000000\n",
              "\n",
              "[8 rows x 10 columns]"
            ]
          },
          "metadata": {
            "tags": []
          },
          "execution_count": 7
        }
      ]
    },
    {
      "cell_type": "markdown",
      "metadata": {
        "id": "cqLVxIV2U5hG"
      },
      "source": [
        "Now we check if there are data with empty values."
      ]
    },
    {
      "cell_type": "code",
      "metadata": {
        "colab": {
          "base_uri": "https://localhost:8080/"
        },
        "id": "RlQ3LukX4cSc",
        "outputId": "da49f1f8-c18e-40ef-9cff-c0d0ade9aef9"
      },
      "source": [
        "numerical_data.isna().sum()"
      ],
      "execution_count": 8,
      "outputs": [
        {
          "output_type": "execute_result",
          "data": {
            "text/plain": [
              "longitude               0\n",
              "latitude                0\n",
              "housing_median_age      0\n",
              "total_rooms             0\n",
              "total_bedrooms        158\n",
              "population              0\n",
              "households              0\n",
              "median_income           0\n",
              "ocean_proximity         0\n",
              "target                  0\n",
              "dtype: int64"
            ]
          },
          "metadata": {
            "tags": []
          },
          "execution_count": 8
        }
      ]
    },
    {
      "cell_type": "markdown",
      "metadata": {
        "id": "IUend7O-VM5x"
      },
      "source": [
        "The empty values are all in 'total_bedrooms'. These empty values have to be either removed or replace/filled with numerical values. We will see if there is a special characteristic associated with data with empty values by comparing the distribution of data."
      ]
    },
    {
      "cell_type": "code",
      "metadata": {
        "colab": {
          "base_uri": "https://localhost:8080/",
          "height": 437
        },
        "id": "p0FxnNITXLL2",
        "outputId": "484bf504-66f1-496a-8605-56b38d64e7cc"
      },
      "source": [
        "with_empty = numerical_data.loc[numerical_data['total_bedrooms'].isna()].copy()\n",
        "with_empty.dropna(axis='columns', inplace=True)\n",
        "with_empty"
      ],
      "execution_count": 9,
      "outputs": [
        {
          "output_type": "execute_result",
          "data": {
            "text/html": [
              "<div>\n",
              "<style scoped>\n",
              "    .dataframe tbody tr th:only-of-type {\n",
              "        vertical-align: middle;\n",
              "    }\n",
              "\n",
              "    .dataframe tbody tr th {\n",
              "        vertical-align: top;\n",
              "    }\n",
              "\n",
              "    .dataframe thead th {\n",
              "        text-align: right;\n",
              "    }\n",
              "</style>\n",
              "<table border=\"1\" class=\"dataframe\">\n",
              "  <thead>\n",
              "    <tr style=\"text-align: right;\">\n",
              "      <th></th>\n",
              "      <th>longitude</th>\n",
              "      <th>latitude</th>\n",
              "      <th>housing_median_age</th>\n",
              "      <th>total_rooms</th>\n",
              "      <th>population</th>\n",
              "      <th>households</th>\n",
              "      <th>median_income</th>\n",
              "      <th>ocean_proximity</th>\n",
              "      <th>target</th>\n",
              "    </tr>\n",
              "  </thead>\n",
              "  <tbody>\n",
              "    <tr>\n",
              "      <th>113</th>\n",
              "      <td>-118.30</td>\n",
              "      <td>34.07</td>\n",
              "      <td>18</td>\n",
              "      <td>3759</td>\n",
              "      <td>3296</td>\n",
              "      <td>1462</td>\n",
              "      <td>2.2708</td>\n",
              "      <td>2</td>\n",
              "      <td>175000</td>\n",
              "    </tr>\n",
              "    <tr>\n",
              "      <th>116</th>\n",
              "      <td>-117.86</td>\n",
              "      <td>34.01</td>\n",
              "      <td>16</td>\n",
              "      <td>4632</td>\n",
              "      <td>3038</td>\n",
              "      <td>727</td>\n",
              "      <td>5.1762</td>\n",
              "      <td>2</td>\n",
              "      <td>264400</td>\n",
              "    </tr>\n",
              "    <tr>\n",
              "      <th>216</th>\n",
              "      <td>-121.97</td>\n",
              "      <td>37.35</td>\n",
              "      <td>30</td>\n",
              "      <td>1955</td>\n",
              "      <td>999</td>\n",
              "      <td>386</td>\n",
              "      <td>4.6328</td>\n",
              "      <td>2</td>\n",
              "      <td>287100</td>\n",
              "    </tr>\n",
              "    <tr>\n",
              "      <th>303</th>\n",
              "      <td>-117.30</td>\n",
              "      <td>34.05</td>\n",
              "      <td>6</td>\n",
              "      <td>2155</td>\n",
              "      <td>1039</td>\n",
              "      <td>391</td>\n",
              "      <td>1.6675</td>\n",
              "      <td>3</td>\n",
              "      <td>95800</td>\n",
              "    </tr>\n",
              "    <tr>\n",
              "      <th>321</th>\n",
              "      <td>-122.79</td>\n",
              "      <td>38.48</td>\n",
              "      <td>7</td>\n",
              "      <td>6837</td>\n",
              "      <td>3468</td>\n",
              "      <td>1405</td>\n",
              "      <td>3.1662</td>\n",
              "      <td>2</td>\n",
              "      <td>191000</td>\n",
              "    </tr>\n",
              "    <tr>\n",
              "      <th>...</th>\n",
              "      <td>...</td>\n",
              "      <td>...</td>\n",
              "      <td>...</td>\n",
              "      <td>...</td>\n",
              "      <td>...</td>\n",
              "      <td>...</td>\n",
              "      <td>...</td>\n",
              "      <td>...</td>\n",
              "      <td>...</td>\n",
              "    </tr>\n",
              "    <tr>\n",
              "      <th>15722</th>\n",
              "      <td>-118.28</td>\n",
              "      <td>34.25</td>\n",
              "      <td>29</td>\n",
              "      <td>2559</td>\n",
              "      <td>1886</td>\n",
              "      <td>769</td>\n",
              "      <td>2.6036</td>\n",
              "      <td>2</td>\n",
              "      <td>162100</td>\n",
              "    </tr>\n",
              "    <tr>\n",
              "      <th>16063</th>\n",
              "      <td>-118.37</td>\n",
              "      <td>34.07</td>\n",
              "      <td>50</td>\n",
              "      <td>2519</td>\n",
              "      <td>1117</td>\n",
              "      <td>516</td>\n",
              "      <td>4.3667</td>\n",
              "      <td>2</td>\n",
              "      <td>405600</td>\n",
              "    </tr>\n",
              "    <tr>\n",
              "      <th>16124</th>\n",
              "      <td>-117.76</td>\n",
              "      <td>34.04</td>\n",
              "      <td>34</td>\n",
              "      <td>1914</td>\n",
              "      <td>1564</td>\n",
              "      <td>328</td>\n",
              "      <td>2.8347</td>\n",
              "      <td>3</td>\n",
              "      <td>115800</td>\n",
              "    </tr>\n",
              "    <tr>\n",
              "      <th>16326</th>\n",
              "      <td>-119.75</td>\n",
              "      <td>34.45</td>\n",
              "      <td>6</td>\n",
              "      <td>2864</td>\n",
              "      <td>1404</td>\n",
              "      <td>603</td>\n",
              "      <td>5.5073</td>\n",
              "      <td>1</td>\n",
              "      <td>263800</td>\n",
              "    </tr>\n",
              "    <tr>\n",
              "      <th>16474</th>\n",
              "      <td>-118.38</td>\n",
              "      <td>34.05</td>\n",
              "      <td>49</td>\n",
              "      <td>702</td>\n",
              "      <td>458</td>\n",
              "      <td>187</td>\n",
              "      <td>4.8958</td>\n",
              "      <td>2</td>\n",
              "      <td>333600</td>\n",
              "    </tr>\n",
              "  </tbody>\n",
              "</table>\n",
              "<p>158 rows × 9 columns</p>\n",
              "</div>"
            ],
            "text/plain": [
              "       longitude  latitude  ...  ocean_proximity  target\n",
              "113      -118.30     34.07  ...                2  175000\n",
              "116      -117.86     34.01  ...                2  264400\n",
              "216      -121.97     37.35  ...                2  287100\n",
              "303      -117.30     34.05  ...                3   95800\n",
              "321      -122.79     38.48  ...                2  191000\n",
              "...          ...       ...  ...              ...     ...\n",
              "15722    -118.28     34.25  ...                2  162100\n",
              "16063    -118.37     34.07  ...                2  405600\n",
              "16124    -117.76     34.04  ...                3  115800\n",
              "16326    -119.75     34.45  ...                1  263800\n",
              "16474    -118.38     34.05  ...                2  333600\n",
              "\n",
              "[158 rows x 9 columns]"
            ]
          },
          "metadata": {
            "tags": []
          },
          "execution_count": 9
        }
      ]
    },
    {
      "cell_type": "code",
      "metadata": {
        "colab": {
          "base_uri": "https://localhost:8080/",
          "height": 437
        },
        "id": "V-Y347OuwLH_",
        "outputId": "3b9c2315-924c-43f8-8f87-c175f0596804"
      },
      "source": [
        "non_empty = numerical_data.loc[numerical_data['total_bedrooms'].notna()].copy()\r\n",
        "non_empty"
      ],
      "execution_count": 10,
      "outputs": [
        {
          "output_type": "execute_result",
          "data": {
            "text/html": [
              "<div>\n",
              "<style scoped>\n",
              "    .dataframe tbody tr th:only-of-type {\n",
              "        vertical-align: middle;\n",
              "    }\n",
              "\n",
              "    .dataframe tbody tr th {\n",
              "        vertical-align: top;\n",
              "    }\n",
              "\n",
              "    .dataframe thead th {\n",
              "        text-align: right;\n",
              "    }\n",
              "</style>\n",
              "<table border=\"1\" class=\"dataframe\">\n",
              "  <thead>\n",
              "    <tr style=\"text-align: right;\">\n",
              "      <th></th>\n",
              "      <th>longitude</th>\n",
              "      <th>latitude</th>\n",
              "      <th>housing_median_age</th>\n",
              "      <th>total_rooms</th>\n",
              "      <th>total_bedrooms</th>\n",
              "      <th>population</th>\n",
              "      <th>households</th>\n",
              "      <th>median_income</th>\n",
              "      <th>ocean_proximity</th>\n",
              "      <th>target</th>\n",
              "    </tr>\n",
              "  </thead>\n",
              "  <tbody>\n",
              "    <tr>\n",
              "      <th>0</th>\n",
              "      <td>-121.89</td>\n",
              "      <td>37.29</td>\n",
              "      <td>38</td>\n",
              "      <td>1568</td>\n",
              "      <td>351.0</td>\n",
              "      <td>710</td>\n",
              "      <td>339</td>\n",
              "      <td>2.7042</td>\n",
              "      <td>2</td>\n",
              "      <td>286600</td>\n",
              "    </tr>\n",
              "    <tr>\n",
              "      <th>1</th>\n",
              "      <td>-121.93</td>\n",
              "      <td>37.05</td>\n",
              "      <td>14</td>\n",
              "      <td>679</td>\n",
              "      <td>108.0</td>\n",
              "      <td>306</td>\n",
              "      <td>113</td>\n",
              "      <td>6.4214</td>\n",
              "      <td>2</td>\n",
              "      <td>340600</td>\n",
              "    </tr>\n",
              "    <tr>\n",
              "      <th>2</th>\n",
              "      <td>-117.20</td>\n",
              "      <td>32.77</td>\n",
              "      <td>31</td>\n",
              "      <td>1952</td>\n",
              "      <td>471.0</td>\n",
              "      <td>936</td>\n",
              "      <td>462</td>\n",
              "      <td>2.8621</td>\n",
              "      <td>1</td>\n",
              "      <td>196900</td>\n",
              "    </tr>\n",
              "    <tr>\n",
              "      <th>3</th>\n",
              "      <td>-119.61</td>\n",
              "      <td>36.31</td>\n",
              "      <td>25</td>\n",
              "      <td>1847</td>\n",
              "      <td>371.0</td>\n",
              "      <td>1460</td>\n",
              "      <td>353</td>\n",
              "      <td>1.8839</td>\n",
              "      <td>3</td>\n",
              "      <td>46300</td>\n",
              "    </tr>\n",
              "    <tr>\n",
              "      <th>4</th>\n",
              "      <td>-118.59</td>\n",
              "      <td>34.23</td>\n",
              "      <td>17</td>\n",
              "      <td>6592</td>\n",
              "      <td>1525.0</td>\n",
              "      <td>4459</td>\n",
              "      <td>1463</td>\n",
              "      <td>3.0347</td>\n",
              "      <td>2</td>\n",
              "      <td>254500</td>\n",
              "    </tr>\n",
              "    <tr>\n",
              "      <th>...</th>\n",
              "      <td>...</td>\n",
              "      <td>...</td>\n",
              "      <td>...</td>\n",
              "      <td>...</td>\n",
              "      <td>...</td>\n",
              "      <td>...</td>\n",
              "      <td>...</td>\n",
              "      <td>...</td>\n",
              "      <td>...</td>\n",
              "      <td>...</td>\n",
              "    </tr>\n",
              "    <tr>\n",
              "      <th>16507</th>\n",
              "      <td>-118.13</td>\n",
              "      <td>34.20</td>\n",
              "      <td>46</td>\n",
              "      <td>1271</td>\n",
              "      <td>236.0</td>\n",
              "      <td>573</td>\n",
              "      <td>210</td>\n",
              "      <td>4.9312</td>\n",
              "      <td>3</td>\n",
              "      <td>240200</td>\n",
              "    </tr>\n",
              "    <tr>\n",
              "      <th>16508</th>\n",
              "      <td>-117.56</td>\n",
              "      <td>33.88</td>\n",
              "      <td>40</td>\n",
              "      <td>1196</td>\n",
              "      <td>294.0</td>\n",
              "      <td>1052</td>\n",
              "      <td>258</td>\n",
              "      <td>2.0682</td>\n",
              "      <td>3</td>\n",
              "      <td>113000</td>\n",
              "    </tr>\n",
              "    <tr>\n",
              "      <th>16509</th>\n",
              "      <td>-116.40</td>\n",
              "      <td>34.09</td>\n",
              "      <td>9</td>\n",
              "      <td>4855</td>\n",
              "      <td>872.0</td>\n",
              "      <td>2098</td>\n",
              "      <td>765</td>\n",
              "      <td>3.2723</td>\n",
              "      <td>3</td>\n",
              "      <td>97800</td>\n",
              "    </tr>\n",
              "    <tr>\n",
              "      <th>16510</th>\n",
              "      <td>-118.01</td>\n",
              "      <td>33.82</td>\n",
              "      <td>31</td>\n",
              "      <td>1960</td>\n",
              "      <td>380.0</td>\n",
              "      <td>1356</td>\n",
              "      <td>356</td>\n",
              "      <td>4.0625</td>\n",
              "      <td>2</td>\n",
              "      <td>225900</td>\n",
              "    </tr>\n",
              "    <tr>\n",
              "      <th>16511</th>\n",
              "      <td>-122.45</td>\n",
              "      <td>37.77</td>\n",
              "      <td>52</td>\n",
              "      <td>3095</td>\n",
              "      <td>682.0</td>\n",
              "      <td>1269</td>\n",
              "      <td>639</td>\n",
              "      <td>3.5750</td>\n",
              "      <td>1</td>\n",
              "      <td>500001</td>\n",
              "    </tr>\n",
              "  </tbody>\n",
              "</table>\n",
              "<p>16354 rows × 10 columns</p>\n",
              "</div>"
            ],
            "text/plain": [
              "       longitude  latitude  ...  ocean_proximity  target\n",
              "0        -121.89     37.29  ...                2  286600\n",
              "1        -121.93     37.05  ...                2  340600\n",
              "2        -117.20     32.77  ...                1  196900\n",
              "3        -119.61     36.31  ...                3   46300\n",
              "4        -118.59     34.23  ...                2  254500\n",
              "...          ...       ...  ...              ...     ...\n",
              "16507    -118.13     34.20  ...                3  240200\n",
              "16508    -117.56     33.88  ...                3  113000\n",
              "16509    -116.40     34.09  ...                3   97800\n",
              "16510    -118.01     33.82  ...                2  225900\n",
              "16511    -122.45     37.77  ...                1  500001\n",
              "\n",
              "[16354 rows x 10 columns]"
            ]
          },
          "metadata": {
            "tags": []
          },
          "execution_count": 10
        }
      ]
    },
    {
      "cell_type": "markdown",
      "metadata": {
        "id": "Wz2x6a77ziWM"
      },
      "source": [
        "The distribution of data is visualized as binned histograms."
      ]
    },
    {
      "cell_type": "code",
      "metadata": {
        "colab": {
          "base_uri": "https://localhost:8080/",
          "height": 729
        },
        "id": "thkgI5t75xZr",
        "outputId": "c7b2c054-0d3a-4c1d-95b0-331a20b0f291"
      },
      "source": [
        "fig, axs = plt.subplots(5, 2, figsize=(10,10))\n",
        "\n",
        "for idx, column_name in enumerate(non_empty.columns):\n",
        "  axs[idx%5, int(idx/5)].hist(non_empty[column_name], bins=30)\n",
        "  axs[idx%5, int(idx/5)].set_title(column_name)\n",
        "\n",
        "fig.tight_layout()\n",
        "plt.show()"
      ],
      "execution_count": 11,
      "outputs": [
        {
          "output_type": "display_data",
          "data": {
            "image/png": "[encoded data removed]",
            "text/plain": [
              "<Figure size 720x720 with 10 Axes>"
            ]
          },
          "metadata": {
            "tags": [],
            "needs_background": "light"
          }
        }
      ]
    },
    {
      "cell_type": "markdown",
      "metadata": {
        "id": "T--YMmKvbCSE"
      },
      "source": [
        "We now see the distribution of data with empty entries in the 'total_bedrooms' column."
      ]
    },
    {
      "cell_type": "code",
      "metadata": {
        "colab": {
          "base_uri": "https://localhost:8080/",
          "height": 729
        },
        "id": "qRiHIvT5ZXD4",
        "outputId": "62e25441-5bd0-4011-9948-9b8073f520ed"
      },
      "source": [
        "fig, axs = plt.subplots(3, 3, figsize=(10,10))\n",
        "\n",
        "for idx, column_name in enumerate(with_empty.columns):\n",
        "  axs[idx%3, int(idx/3)].hist(with_empty[column_name], bins=30)\n",
        "  axs[idx%3, int(idx/3)].set_title(column_name)\n",
        "\n",
        "fig.tight_layout()\n",
        "plt.show()"
      ],
      "execution_count": 12,
      "outputs": [
        {
          "output_type": "display_data",
          "data": {
            "image/png": "[encoded data removed]",
            "text/plain": [
              "<Figure size 720x720 with 9 Axes>"
            ]
          },
          "metadata": {
            "tags": [],
            "needs_background": "light"
          }
        }
      ]
    },
    {
      "cell_type": "markdown",
      "metadata": {
        "id": "KLtvbA3XbiQ7"
      },
      "source": [
        "The data with empty entries do not have unique characteristics that differ from the rest of the data. The data with empty entries will be removed."
      ]
    },
    {
      "cell_type": "code",
      "metadata": {
        "id": "Nvvsk4Y8bU90"
      },
      "source": [
        "numerical_data.dropna(inplace=True)"
      ],
      "execution_count": 13,
      "outputs": []
    },
    {
      "cell_type": "markdown",
      "metadata": {
        "id": "9ky4GoTKm-Nv"
      },
      "source": [
        "Now the we use the correlation coefficient matrix to see if there is any linear relation between each pair of variables."
      ]
    },
    {
      "cell_type": "code",
      "metadata": {
        "colab": {
          "base_uri": "https://localhost:8080/"
        },
        "id": "JvIy7BGhzg4O",
        "outputId": "c33919e8-b902-47a4-af16-aeab7bce17ad"
      },
      "source": [
        "corr_matrix = numerical_data.corr()\n",
        "corr_matrix['target']"
      ],
      "execution_count": 14,
      "outputs": [
        {
          "output_type": "execute_result",
          "data": {
            "text/plain": [
              "longitude            -0.046983\n",
              "latitude             -0.143130\n",
              "housing_median_age    0.114803\n",
              "total_rooms           0.134372\n",
              "total_bedrooms        0.047689\n",
              "population           -0.027586\n",
              "households            0.063657\n",
              "median_income         0.687428\n",
              "ocean_proximity      -0.431521\n",
              "target                1.000000\n",
              "Name: target, dtype: float64"
            ]
          },
          "metadata": {
            "tags": []
          },
          "execution_count": 14
        }
      ]
    },
    {
      "cell_type": "markdown",
      "metadata": {
        "id": "k7Eg0q42nbiC"
      },
      "source": [
        "We can see that the 'ocean_proximity' is negatively correlated to 'target' and 'median_income' is positively correlated to 'target'."
      ]
    },
    {
      "cell_type": "code",
      "metadata": {
        "colab": {
          "base_uri": "https://localhost:8080/",
          "height": 818
        },
        "id": "YAP49TVW00I8",
        "outputId": "b42c24c8-abf9-4024-d7f1-0d0be7c334f9"
      },
      "source": [
        "plt.figure(figsize=(12,12))\n",
        "sns.heatmap(corr_matrix, annot=True)"
      ],
      "execution_count": 15,
      "outputs": [
        {
          "output_type": "execute_result",
          "data": {
            "text/plain": [
              "<matplotlib.axes._subplots.AxesSubplot at 0x7f07349bda20>"
            ]
          },
          "metadata": {
            "tags": []
          },
          "execution_count": 15
        },
        {
          "output_type": "display_data",
          "data": {
            "image/png": "[encoded data removed]",
            "text/plain": [
              "<Figure size 864x864 with 2 Axes>"
            ]
          },
          "metadata": {
            "tags": [],
            "needs_background": "light"
          }
        }
      ]
    },
    {
      "cell_type": "markdown",
      "metadata": {
        "id": "HKANQ9gjphtm"
      },
      "source": [
        "## Linear Regression Using All Features"
      ]
    },
    {
      "cell_type": "code",
      "metadata": {
        "id": "CQ6lESrtxqSy"
      },
      "source": [
        "target = numerical_data['target']\r\n",
        "feature = numerical_data.drop('target', axis='columns')"
      ],
      "execution_count": 16,
      "outputs": []
    },
    {
      "cell_type": "markdown",
      "metadata": {
        "id": "Y4iGWoNb5xJ_"
      },
      "source": [
        "We attempt to fit the data to a linear regression model."
      ]
    },
    {
      "cell_type": "code",
      "metadata": {
        "id": "f13vkKn-gD_Z"
      },
      "source": [
        "from sklearn.model_selection import train_test_split\n",
        "from sklearn.linear_model import LinearRegression\n",
        "from sklearn.metrics import mean_squared_error\n",
        "from sklearn.model_selection import cross_val_score"
      ],
      "execution_count": 17,
      "outputs": []
    },
    {
      "cell_type": "markdown",
      "metadata": {
        "id": "3QRJLzUuoHUP"
      },
      "source": [
        "Split the data into train and test data."
      ]
    },
    {
      "cell_type": "code",
      "metadata": {
        "id": "iDXUUvThgY62"
      },
      "source": [
        "train_feature, test_feature, train_target, test_target = train_test_split(feature, target, test_size=0.25, random_state=1)"
      ],
      "execution_count": 18,
      "outputs": []
    },
    {
      "cell_type": "code",
      "metadata": {
        "id": "EudBVYMdgTH4"
      },
      "source": [
        "linreg_model = LinearRegression()"
      ],
      "execution_count": 19,
      "outputs": []
    },
    {
      "cell_type": "code",
      "metadata": {
        "id": "SBCk2CckLGbp"
      },
      "source": [
        "cross_score = cross_val_score(linreg_model, train_feature, train_target, cv=5)"
      ],
      "execution_count": 20,
      "outputs": []
    },
    {
      "cell_type": "code",
      "metadata": {
        "colab": {
          "base_uri": "https://localhost:8080/"
        },
        "id": "qneV93iKLQm0",
        "outputId": "930d2893-9655-4ced-fc19-9ea42ab5fa5b"
      },
      "source": [
        "cross_score"
      ],
      "execution_count": 21,
      "outputs": [
        {
          "output_type": "execute_result",
          "data": {
            "text/plain": [
              "array([0.63129255, 0.66013758, 0.64081252, 0.5984954 , 0.65017378])"
            ]
          },
          "metadata": {
            "tags": []
          },
          "execution_count": 21
        }
      ]
    },
    {
      "cell_type": "code",
      "metadata": {
        "colab": {
          "base_uri": "https://localhost:8080/"
        },
        "id": "7eT90LY2hwzD",
        "outputId": "fe663fdf-ff63-4517-b7bb-fd140211e68f"
      },
      "source": [
        "linreg_model.fit(train_feature, train_target)\r\n",
        "linreg_model.score(test_feature, test_target)"
      ],
      "execution_count": 22,
      "outputs": [
        {
          "output_type": "execute_result",
          "data": {
            "text/plain": [
              "0.6420426603756191"
            ]
          },
          "metadata": {
            "tags": []
          },
          "execution_count": 22
        }
      ]
    },
    {
      "cell_type": "code",
      "metadata": {
        "colab": {
          "base_uri": "https://localhost:8080/"
        },
        "id": "z4Tn-ypwL0Ba",
        "outputId": "ba0cf817-fe6e-4d47-c797-32ef566c9f9d"
      },
      "source": [
        "linreg_pred = linreg_model.predict(test_feature)\n",
        "RMSE = mean_squared_error(test_target, linreg_pred)**0.5\n",
        "print(RMSE)"
      ],
      "execution_count": 23,
      "outputs": [
        {
          "output_type": "stream",
          "text": [
            "69200.7770029132\n"
          ],
          "name": "stdout"
        }
      ]
    },
    {
      "cell_type": "markdown",
      "metadata": {
        "id": "2VZQK4hLp_Jf"
      },
      "source": [
        "## Linear Regression Using Linearly Independent Features "
      ]
    },
    {
      "cell_type": "code",
      "metadata": {
        "id": "97aDpOt7b16r"
      },
      "source": [
        "target = numerical_data['target']\n",
        "feature = numerical_data.drop(['target','total_bedrooms','population','households'], axis='columns')"
      ],
      "execution_count": 24,
      "outputs": []
    },
    {
      "cell_type": "code",
      "metadata": {
        "id": "iI7lrGwr0FV2"
      },
      "source": [
        "train_feature2, test_feature2, train_target2, test_target2 = train_test_split(feature, target, test_size=0.25, random_state=1)"
      ],
      "execution_count": 25,
      "outputs": []
    },
    {
      "cell_type": "code",
      "metadata": {
        "id": "xA0_0wkO0h0w"
      },
      "source": [
        "linreg_model2 = LinearRegression()"
      ],
      "execution_count": 26,
      "outputs": []
    },
    {
      "cell_type": "code",
      "metadata": {
        "id": "drb_hCeUMzqi"
      },
      "source": [
        "cross_score = cross_val_score(linreg_model2, train_feature2, train_target2, cv=5)"
      ],
      "execution_count": 27,
      "outputs": []
    },
    {
      "cell_type": "code",
      "metadata": {
        "colab": {
          "base_uri": "https://localhost:8080/"
        },
        "id": "rHPrlPlrM5xX",
        "outputId": "c6be2be7-d7dc-45c0-b44b-37678e1c1c97"
      },
      "source": [
        "cross_score"
      ],
      "execution_count": 28,
      "outputs": [
        {
          "output_type": "execute_result",
          "data": {
            "text/plain": [
              "array([0.58840193, 0.62374834, 0.60518492, 0.58898625, 0.61611557])"
            ]
          },
          "metadata": {
            "tags": []
          },
          "execution_count": 28
        }
      ]
    },
    {
      "cell_type": "code",
      "metadata": {
        "colab": {
          "base_uri": "https://localhost:8080/"
        },
        "id": "kue4K_P9-NzX",
        "outputId": "6e7ce5a4-7659-42da-91ac-13afe83b8f0a"
      },
      "source": [
        "linreg_model2.fit(train_feature2, train_target2)\r\n",
        "linreg_model2.score(test_feature2, test_target2)"
      ],
      "execution_count": 29,
      "outputs": [
        {
          "output_type": "execute_result",
          "data": {
            "text/plain": [
              "0.6047760885868032"
            ]
          },
          "metadata": {
            "tags": []
          },
          "execution_count": 29
        }
      ]
    },
    {
      "cell_type": "code",
      "metadata": {
        "colab": {
          "base_uri": "https://localhost:8080/"
        },
        "id": "QdaNTaoc-Uzy",
        "outputId": "5a17ee26-942d-473b-ed7d-8b8b4ad3452c"
      },
      "source": [
        "linreg2_pred = linreg_model2.predict(test_feature2)\r\n",
        "RMSE2 = mean_squared_error(test_target2, linreg2_pred)**0.5\r\n",
        "print(RMSE2)"
      ],
      "execution_count": 30,
      "outputs": [
        {
          "output_type": "stream",
          "text": [
            "72713.81668153137\n"
          ],
          "name": "stdout"
        }
      ]
    },
    {
      "cell_type": "markdown",
      "metadata": {
        "id": "nWaTyeQmqg2C"
      },
      "source": [
        "## Linear Regression Using Feature Transform(Log Transformation)"
      ]
    },
    {
      "cell_type": "markdown",
      "metadata": {
        "id": "tdeNP96eoNem"
      },
      "source": [
        "Note that some features are highly skewed to the left. Log transformation will be used to relieve the skewed data closer to a normal distribution."
      ]
    },
    {
      "cell_type": "code",
      "metadata": {
        "colab": {
          "base_uri": "https://localhost:8080/",
          "height": 729
        },
        "id": "7VTMVRyOkimr",
        "outputId": "0fb203e9-cf49-4af5-8e33-b3e0300de5a5"
      },
      "source": [
        "fig, axs = plt.subplots(5, 2, figsize=(10,10))\n",
        "\n",
        "for idx, column_name in enumerate(numerical_data.columns):\n",
        "  axs[idx%5, int(idx/5)].hist(numerical_data[column_name], bins=30)\n",
        "  axs[idx%5, int(idx/5)].set_title(column_name)\n",
        "\n",
        "fig.tight_layout()\n",
        "plt.show()"
      ],
      "execution_count": 31,
      "outputs": [
        {
          "output_type": "display_data",
          "data": {
            "image/png": "[encoded data removed]",
            "text/plain": [
              "<Figure size 720x720 with 10 Axes>"
            ]
          },
          "metadata": {
            "tags": [],
            "needs_background": "light"
          }
        }
      ]
    },
    {
      "cell_type": "markdown",
      "metadata": {
        "id": "1B9A9TuboiLV"
      },
      "source": [
        "Perform log transform."
      ]
    },
    {
      "cell_type": "code",
      "metadata": {
        "id": "S-dy6C34_6T1"
      },
      "source": [
        "target = numerical_data['target']\r\n",
        "feature = numerical_data.drop(['target'], axis='columns')"
      ],
      "execution_count": 32,
      "outputs": []
    },
    {
      "cell_type": "code",
      "metadata": {
        "id": "vghkW9G3gBPh"
      },
      "source": [
        "feature['households'] = np.log(feature['households'])\n",
        "feature['total_bedrooms'] = np.log(feature['total_bedrooms'])\n",
        "feature['total_rooms'] = np.log(feature['total_rooms'])\n",
        "feature['population'] = np.log(feature['population'])"
      ],
      "execution_count": 33,
      "outputs": []
    },
    {
      "cell_type": "markdown",
      "metadata": {
        "id": "iAZAQSEoomIt"
      },
      "source": [
        "The data after log transform is the following."
      ]
    },
    {
      "cell_type": "code",
      "metadata": {
        "colab": {
          "base_uri": "https://localhost:8080/",
          "height": 729
        },
        "id": "eudQYKQ0c0qs",
        "outputId": "59779dc0-c632-4a36-df5e-a2fd64735d7c"
      },
      "source": [
        "fig, axs = plt.subplots(3, 3, figsize=(10,10))\n",
        "\n",
        "for idx, column_name in enumerate(feature.columns):\n",
        "  axs[idx%3, int(idx/3)].hist(feature[column_name], bins=30)\n",
        "  axs[idx%3, int(idx/3)].set_title(column_name)\n",
        "\n",
        "fig.tight_layout()\n",
        "plt.show()"
      ],
      "execution_count": 34,
      "outputs": [
        {
          "output_type": "display_data",
          "data": {
            "image/png": "[encoded data removed]",
            "text/plain": [
              "<Figure size 720x720 with 9 Axes>"
            ]
          },
          "metadata": {
            "tags": [],
            "needs_background": "light"
          }
        }
      ]
    },
    {
      "cell_type": "code",
      "metadata": {
        "id": "X7hjHnN6df7V"
      },
      "source": [
        "train_feature3, test_feature3, train_target3, test_target3 = train_test_split(feature, target, test_size=0.25, random_state=1)"
      ],
      "execution_count": 35,
      "outputs": []
    },
    {
      "cell_type": "code",
      "metadata": {
        "id": "sRKFlw5kdXW0"
      },
      "source": [
        "logtrans_model = LinearRegression()"
      ],
      "execution_count": 36,
      "outputs": []
    },
    {
      "cell_type": "code",
      "metadata": {
        "id": "pf_dD4m5NDKQ"
      },
      "source": [
        "cross_score = cross_val_score(logtrans_model, train_feature3, train_target3, cv=5)"
      ],
      "execution_count": 37,
      "outputs": []
    },
    {
      "cell_type": "code",
      "metadata": {
        "colab": {
          "base_uri": "https://localhost:8080/"
        },
        "id": "bQTswwuqNStF",
        "outputId": "a4febe49-3e3e-42b5-d7b5-f2e72bebf66b"
      },
      "source": [
        "cross_score"
      ],
      "execution_count": 38,
      "outputs": [
        {
          "output_type": "execute_result",
          "data": {
            "text/plain": [
              "array([0.64913294, 0.68552765, 0.66149183, 0.63980643, 0.67233433])"
            ]
          },
          "metadata": {
            "tags": []
          },
          "execution_count": 38
        }
      ]
    },
    {
      "cell_type": "markdown",
      "metadata": {
        "id": "sS50R-zcorSk"
      },
      "source": [
        "The accuracy of the linear regression model after log transform has increased about 3.3%"
      ]
    },
    {
      "cell_type": "code",
      "metadata": {
        "colab": {
          "base_uri": "https://localhost:8080/"
        },
        "id": "x1v5A-dddZAQ",
        "outputId": "36c9619e-2c7e-42cd-e123-ef3f9308ea42"
      },
      "source": [
        "logtrans_model.fit(train_feature3, train_target3)\r\n",
        "logtrans_model.score(test_feature3, test_target3)"
      ],
      "execution_count": 39,
      "outputs": [
        {
          "output_type": "execute_result",
          "data": {
            "text/plain": [
              "0.6733438644218399"
            ]
          },
          "metadata": {
            "tags": []
          },
          "execution_count": 39
        }
      ]
    },
    {
      "cell_type": "code",
      "metadata": {
        "colab": {
          "base_uri": "https://localhost:8080/"
        },
        "id": "c09tSUnhMiTI",
        "outputId": "a164e0e0-bdde-46db-de0c-b92ffdeede32"
      },
      "source": [
        "pred = logtrans_model.predict(test_feature3)\n",
        "RMSE = mean_squared_error(test_target3, pred)**0.5\n",
        "print(RMSE)"
      ],
      "execution_count": 40,
      "outputs": [
        {
          "output_type": "stream",
          "text": [
            "66105.9795557626\n"
          ],
          "name": "stdout"
        }
      ]
    },
    {
      "cell_type": "markdown",
      "metadata": {
        "id": "hqjOGwFaqtf9"
      },
      "source": [
        "## Non-linear Regression"
      ]
    },
    {
      "cell_type": "markdown",
      "metadata": {
        "id": "ititHhj0z113"
      },
      "source": [
        "We use Bayesian Ridge and XGBoost regression to fit the data to see if it yields better accuracy."
      ]
    },
    {
      "cell_type": "code",
      "metadata": {
        "id": "risz33yiz-s1"
      },
      "source": [
        "from sklearn.preprocessing import PolynomialFeatures\n",
        "from xgboost import XGBRegressor"
      ],
      "execution_count": 41,
      "outputs": []
    },
    {
      "cell_type": "markdown",
      "metadata": {
        "id": "mI48hVondGbR"
      },
      "source": [
        "### Polynomial Regression"
      ]
    },
    {
      "cell_type": "markdown",
      "metadata": {
        "id": "y8zp2eXjTEKT"
      },
      "source": [
        "Polynomial of degree 2 seems to the most optimal."
      ]
    },
    {
      "cell_type": "code",
      "metadata": {
        "id": "ZaU-uuYwb0tw"
      },
      "source": [
        "poly = PolynomialFeatures(degree = 2)\r\n",
        "poly_fitted = poly.fit(feature)\r\n",
        "poly_feat = poly.transform(feature)"
      ],
      "execution_count": 60,
      "outputs": []
    },
    {
      "cell_type": "code",
      "metadata": {
        "id": "bnpoApNpcX9a"
      },
      "source": [
        "train_feature4, test_feature4, train_target4, test_target4 = train_test_split(poly_feat, target, test_size=0.25, random_state=1)"
      ],
      "execution_count": 61,
      "outputs": []
    },
    {
      "cell_type": "code",
      "metadata": {
        "id": "wvc_lIBVceBE"
      },
      "source": [
        "poly_reg = LinearRegression()\r\n",
        "cross_score = cross_val_score(poly_reg, train_feature4, train_target4, cv=5)"
      ],
      "execution_count": 62,
      "outputs": []
    },
    {
      "cell_type": "code",
      "metadata": {
        "colab": {
          "base_uri": "https://localhost:8080/"
        },
        "id": "t-qRvJsWePoe",
        "outputId": "fe9c7f15-e29b-46d5-bdb0-c72f371e79f9"
      },
      "source": [
        "cross_score"
      ],
      "execution_count": 63,
      "outputs": [
        {
          "output_type": "execute_result",
          "data": {
            "text/plain": [
              "array([0.65505042, 0.7490102 , 0.7333554 , 0.70879198, 0.73628271])"
            ]
          },
          "metadata": {
            "tags": []
          },
          "execution_count": 63
        }
      ]
    },
    {
      "cell_type": "code",
      "metadata": {
        "colab": {
          "base_uri": "https://localhost:8080/"
        },
        "id": "AsjGXvBVeNfQ",
        "outputId": "68a60fa0-165b-40fc-8582-6d5367be6e00"
      },
      "source": [
        "poly_reg.fit(train_feature4, train_target4)"
      ],
      "execution_count": 64,
      "outputs": [
        {
          "output_type": "execute_result",
          "data": {
            "text/plain": [
              "LinearRegression(copy_X=True, fit_intercept=True, n_jobs=None, normalize=False)"
            ]
          },
          "metadata": {
            "tags": []
          },
          "execution_count": 64
        }
      ]
    },
    {
      "cell_type": "code",
      "metadata": {
        "colab": {
          "base_uri": "https://localhost:8080/"
        },
        "id": "5vgQ9SKvcmvG",
        "outputId": "336199d1-3ffa-4655-9972-97970349a498"
      },
      "source": [
        "poly_reg.score(test_feature4, test_target4)"
      ],
      "execution_count": 65,
      "outputs": [
        {
          "output_type": "execute_result",
          "data": {
            "text/plain": [
              "0.7287570504370741"
            ]
          },
          "metadata": {
            "tags": []
          },
          "execution_count": 65
        }
      ]
    },
    {
      "cell_type": "code",
      "metadata": {
        "colab": {
          "base_uri": "https://localhost:8080/"
        },
        "id": "5uKhtMlScS8q",
        "outputId": "aa901d70-f6fe-4d50-8375-287f0fe06af3"
      },
      "source": [
        "pred = poly_reg.predict(test_feature4)\r\n",
        "RMSE = mean_squared_error(test_target4, pred)**0.5\r\n",
        "print(RMSE)"
      ],
      "execution_count": 66,
      "outputs": [
        {
          "output_type": "stream",
          "text": [
            "60238.5575931126\n"
          ],
          "name": "stdout"
        }
      ]
    },
    {
      "cell_type": "markdown",
      "metadata": {
        "id": "VFijTkNHdJYq"
      },
      "source": [
        "### XGBoost Regression"
      ]
    },
    {
      "cell_type": "code",
      "metadata": {
        "colab": {
          "base_uri": "https://localhost:8080/"
        },
        "id": "2XcJYfEnz1N0",
        "outputId": "bb24d607-cb6b-4c02-fbb3-d52b4fa46bb9"
      },
      "source": [
        "xgb_model = XGBRegressor()\n",
        "xgb_model.fit(train_feature, train_target)"
      ],
      "execution_count": 49,
      "outputs": [
        {
          "output_type": "stream",
          "text": [
            "[11:35:00] WARNING: /workspace/src/objective/regression_obj.cu:152: reg:linear is now deprecated in favor of reg:squarederror.\n"
          ],
          "name": "stdout"
        },
        {
          "output_type": "execute_result",
          "data": {
            "text/plain": [
              "XGBRegressor(base_score=0.5, booster='gbtree', colsample_bylevel=1,\n",
              "             colsample_bynode=1, colsample_bytree=1, gamma=0,\n",
              "             importance_type='gain', learning_rate=0.1, max_delta_step=0,\n",
              "             max_depth=3, min_child_weight=1, missing=None, n_estimators=100,\n",
              "             n_jobs=1, nthread=None, objective='reg:linear', random_state=0,\n",
              "             reg_alpha=0, reg_lambda=1, scale_pos_weight=1, seed=None,\n",
              "             silent=None, subsample=1, verbosity=1)"
            ]
          },
          "metadata": {
            "tags": []
          },
          "execution_count": 49
        }
      ]
    },
    {
      "cell_type": "code",
      "metadata": {
        "colab": {
          "base_uri": "https://localhost:8080/"
        },
        "id": "eLDt9kJ24yh_",
        "outputId": "d27a7e13-b3e9-4553-9475-dc85d335f040"
      },
      "source": [
        "xgb_model.score(test_feature, test_target)"
      ],
      "execution_count": 50,
      "outputs": [
        {
          "output_type": "execute_result",
          "data": {
            "text/plain": [
              "0.7670404145530832"
            ]
          },
          "metadata": {
            "tags": []
          },
          "execution_count": 50
        }
      ]
    },
    {
      "cell_type": "code",
      "metadata": {
        "colab": {
          "base_uri": "https://localhost:8080/"
        },
        "id": "xPHYllGkM5cj",
        "outputId": "34bc8b13-84df-4cbe-9c7e-633fe4e45af2"
      },
      "source": [
        "pred = xgb_model.predict(test_feature)\n",
        "RMSE = mean_squared_error(test_target, pred)**0.5\n",
        "print(RMSE)"
      ],
      "execution_count": 51,
      "outputs": [
        {
          "output_type": "stream",
          "text": [
            "55825.88638700711\n"
          ],
          "name": "stdout"
        }
      ]
    },
    {
      "cell_type": "markdown",
      "metadata": {
        "id": "Yup5LcgkB_dn"
      },
      "source": [
        "## Save Model"
      ]
    },
    {
      "cell_type": "code",
      "metadata": {
        "id": "_HqUZeESNkQ3"
      },
      "source": [
        "# pkl_filename = \"trained_model.pkl\"\r\n",
        "# with open(pkl_filename, 'wb') as file:\r\n",
        "#     pickle.dump(logtrans_model, file)"
      ],
      "execution_count": 52,
      "outputs": []
    },
    {
      "cell_type": "code",
      "metadata": {
        "id": "1z6flT01RhPF"
      },
      "source": [
        ""
      ],
      "execution_count": 52,
      "outputs": []
    }
  ]
}